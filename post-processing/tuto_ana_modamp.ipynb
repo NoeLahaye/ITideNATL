{
 "cells": [
  {
   "cell_type": "code",
   "execution_count": 1,
   "id": "a6592401-e97c-4340-8279-8727cd48c67d",
   "metadata": {},
   "outputs": [],
   "source": [
    "%matplotlib inline\n",
    "import matplotlib as mpl\n",
    "from matplotlib import pyplot as plt\n",
    "import cartopy.crs as ccrs\n",
    "import cartopy.feature as cfeature\n",
    "\n",
    "#from glob import glob\n",
    "from pathlib import Path\n",
    "import os, time\n",
    "\n",
    "import numpy as np\n",
    "\n",
    "import xarray as xr\n",
    "from xorca.lib import load_xorca_dataset # not strictly necessary\n",
    "from xgcm import Grid\n",
    "\n",
    "from itidenatl.nemodez import Vmodes\n",
    "#import itidenatl.eos as eos\n",
    "#import itidenatl.vars as var\n",
    "#import itidenatl.gridop as gop\n",
    "import itidenatl.utils as ut"
   ]
  },
  {
   "cell_type": "code",
   "execution_count": null,
   "id": "71dab3ab-9e82-462d-9f12-bb997e976072",
   "metadata": {},
   "outputs": [],
   "source": [
    "from dask.distributed import Client, LocalCluster\n",
    "scratch = Path(os.getenv(\"SCRATCHDIR\"))\n",
    "\n",
    "cluster = LocalCluster(local_directory=scratch) #n_workers=24, threads_per_worker=1, memory_limit=8e6,silence_logs=50\n",
    "client = Client(cluster)\n",
    "client"
   ]
  },
  {
   "cell_type": "code",
   "execution_count": null,
   "id": "3b704647-dbee-44d5-b3cd-2c9ccb23e05a",
   "metadata": {},
   "outputs": [],
   "source": [
    "### define paths\n",
    "workdir = Path(\"/work/CT1/ige2071/nlahaye\")\n",
    "worksha = (workdir/\"../SHARED\").resolve()\n",
    "\n",
    "vmod_path = {\"gen\": worksha/\"vmodes/vmodes_10.zarr\", \n",
    "             \n",
    "#ssh_path = Path(\"/store/albert7a/eNATL60/zarr/eNATL60-BLBT02-SSH-1h\") # zarr\n",
    "grid_path = scratch/\"mesh_mask_eNATL60_3.6.nc\"\n",
    "modamp_dir = worksha/\"modal_proj\"\n",
    "modamp_nam = \"modamp_pres_global_{}.zarr\"\n",
    "\n",
    "i_day = 10\n",
    "i_mod = 1"
   ]
  }
 ],
 "metadata": {
  "kernelspec": {
   "display_name": "Python 3",
   "language": "python",
   "name": "python3"
  },
  "language_info": {
   "codemirror_mode": {
    "name": "ipython",
    "version": 3
   },
   "file_extension": ".py",
   "mimetype": "text/x-python",
   "name": "python",
   "nbconvert_exporter": "python",
   "pygments_lexer": "ipython3",
   "version": "3.7.10"
  }
 },
 "nbformat": 4,
 "nbformat_minor": 5
}
