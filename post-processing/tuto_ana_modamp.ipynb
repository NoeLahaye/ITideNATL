{
 "cells": [
  {
   "cell_type": "code",
   "execution_count": 1,
   "metadata": {},
   "outputs": [
    {
     "ename": "ImportError",
     "evalue": "dlopen(/Users/nlahaye/Coding/virtualenvs/base3.8/lib/python3.8/site-packages/cartopy/_crs.cpython-38-darwin.so, 2): Library not loaded: /usr/local/opt/proj/lib/libproj.19.dylib\n  Referenced from: /Users/nlahaye/Coding/virtualenvs/base3.8/lib/python3.8/site-packages/cartopy/_crs.cpython-38-darwin.so\n  Reason: image not found",
     "output_type": "error",
     "traceback": [
      "\u001b[0;31m---------------------------------------------------------------------------\u001b[0m",
      "\u001b[0;31mImportError\u001b[0m                               Traceback (most recent call last)",
      "\u001b[0;32m<ipython-input-1-25b91d764520>\u001b[0m in \u001b[0;36m<module>\u001b[0;34m\u001b[0m\n\u001b[1;32m      2\u001b[0m \u001b[0;32mimport\u001b[0m \u001b[0mmatplotlib\u001b[0m \u001b[0;32mas\u001b[0m \u001b[0mmpl\u001b[0m\u001b[0;34m\u001b[0m\u001b[0;34m\u001b[0m\u001b[0m\n\u001b[1;32m      3\u001b[0m \u001b[0;32mfrom\u001b[0m \u001b[0mmatplotlib\u001b[0m \u001b[0;32mimport\u001b[0m \u001b[0mpyplot\u001b[0m \u001b[0;32mas\u001b[0m \u001b[0mplt\u001b[0m\u001b[0;34m\u001b[0m\u001b[0;34m\u001b[0m\u001b[0m\n\u001b[0;32m----> 4\u001b[0;31m \u001b[0;32mimport\u001b[0m \u001b[0mcartopy\u001b[0m\u001b[0;34m.\u001b[0m\u001b[0mcrs\u001b[0m \u001b[0;32mas\u001b[0m \u001b[0mccrs\u001b[0m\u001b[0;34m\u001b[0m\u001b[0;34m\u001b[0m\u001b[0m\n\u001b[0m\u001b[1;32m      5\u001b[0m \u001b[0;32mimport\u001b[0m \u001b[0mcartopy\u001b[0m\u001b[0;34m.\u001b[0m\u001b[0mfeature\u001b[0m \u001b[0;32mas\u001b[0m \u001b[0mcfeature\u001b[0m\u001b[0;34m\u001b[0m\u001b[0;34m\u001b[0m\u001b[0m\n\u001b[1;32m      6\u001b[0m \u001b[0;34m\u001b[0m\u001b[0m\n",
      "\u001b[0;32m~/Coding/virtualenvs/base3.8/lib/python3.8/site-packages/cartopy/__init__.py\u001b[0m in \u001b[0;36m<module>\u001b[0;34m\u001b[0m\n\u001b[1;32m     94\u001b[0m \u001b[0;31m# Commonly used sub-modules. Imported here to provide end-user\u001b[0m\u001b[0;34m\u001b[0m\u001b[0;34m\u001b[0m\u001b[0;34m\u001b[0m\u001b[0m\n\u001b[1;32m     95\u001b[0m \u001b[0;31m# convenience.\u001b[0m\u001b[0;34m\u001b[0m\u001b[0;34m\u001b[0m\u001b[0;34m\u001b[0m\u001b[0m\n\u001b[0;32m---> 96\u001b[0;31m \u001b[0;32mimport\u001b[0m \u001b[0mcartopy\u001b[0m\u001b[0;34m.\u001b[0m\u001b[0mcrs\u001b[0m\u001b[0;34m\u001b[0m\u001b[0;34m\u001b[0m\u001b[0m\n\u001b[0m\u001b[1;32m     97\u001b[0m \u001b[0;32mimport\u001b[0m \u001b[0mcartopy\u001b[0m\u001b[0;34m.\u001b[0m\u001b[0mfeature\u001b[0m  \u001b[0;31m# noqa: F401  (flake8 = unused import)\u001b[0m\u001b[0;34m\u001b[0m\u001b[0;34m\u001b[0m\u001b[0m\n",
      "\u001b[0;32m~/Coding/virtualenvs/base3.8/lib/python3.8/site-packages/cartopy/crs.py\u001b[0m in \u001b[0;36m<module>\u001b[0;34m\u001b[0m\n\u001b[1;32m     34\u001b[0m \u001b[0;32mimport\u001b[0m \u001b[0msix\u001b[0m\u001b[0;34m\u001b[0m\u001b[0;34m\u001b[0m\u001b[0m\n\u001b[1;32m     35\u001b[0m \u001b[0;34m\u001b[0m\u001b[0m\n\u001b[0;32m---> 36\u001b[0;31m from cartopy._crs import (CRS, Geodetic, Globe, PROJ4_VERSION,\n\u001b[0m\u001b[1;32m     37\u001b[0m                           WGS84_SEMIMAJOR_AXIS, WGS84_SEMIMINOR_AXIS)\n\u001b[1;32m     38\u001b[0m \u001b[0;32mfrom\u001b[0m \u001b[0mcartopy\u001b[0m\u001b[0;34m.\u001b[0m\u001b[0m_crs\u001b[0m \u001b[0;32mimport\u001b[0m \u001b[0mGeocentric\u001b[0m  \u001b[0;31m# noqa: F401 (flake8 = unused import)\u001b[0m\u001b[0;34m\u001b[0m\u001b[0;34m\u001b[0m\u001b[0m\n",
      "\u001b[0;31mImportError\u001b[0m: dlopen(/Users/nlahaye/Coding/virtualenvs/base3.8/lib/python3.8/site-packages/cartopy/_crs.cpython-38-darwin.so, 2): Library not loaded: /usr/local/opt/proj/lib/libproj.19.dylib\n  Referenced from: /Users/nlahaye/Coding/virtualenvs/base3.8/lib/python3.8/site-packages/cartopy/_crs.cpython-38-darwin.so\n  Reason: image not found"
     ]
    }
   ],
   "source": [
    "%matplotlib inline\n",
    "import matplotlib as mpl\n",
    "from matplotlib import pyplot as plt\n",
    "import cartopy.crs as ccrs\n",
    "import cartopy.feature as cfeature\n",
    "\n",
    "#from glob import glob\n",
    "from pathlib import Path\n",
    "import os, time\n",
    "\n",
    "import numpy as np\n",
    "\n",
    "import xarray as xr\n",
    "from xorca.lib import load_xorca_dataset # not strictly necessary\n",
    "from xgcm import Grid\n",
    "\n",
    "from itidenatl.nemodez import Vmodes\n",
    "#import itidenatl.eos as eos\n",
    "#import itidenatl.vars as var\n",
    "#import itidenatl.gridop as gop\n",
    "import itidenatl.utils as ut"
   ]
  },
  {
   "cell_type": "code",
   "execution_count": null,
   "metadata": {},
   "outputs": [],
   "source": [
    "from dask.distributed import Client, LocalCluster\n",
    "scratch = Path(os.getenv(\"SCRATCHDIR\"))\n",
    "\n",
    "cluster = LocalCluster(local_directory=scratch) #n_workers=24, threads_per_worker=1, memory_limit=8e6,silence_logs=50\n",
    "client = Client(cluster)\n",
    "client"
   ]
  },
  {
   "cell_type": "code",
   "execution_count": null,
   "metadata": {},
   "outputs": [],
   "source": [
    "### define paths\n",
    "workdir = Path(\"/work/CT1/ige2071/nlahaye\")\n",
    "scratchdir = Path(str(scratch).replace(os.getenv(\"USER\"),\"nlahaye\"))\n",
    "worksha = (workdir/\"../SHARED\").resolve()\n",
    "\n",
    "vmod_path = {\"gen\": worksha/\"vmodes/vmodes_10.zarr\", \n",
    "             \"pres\": worksha/\"vmodes/vmodes_10.zarr\",\n",
    "             \"u\": worksha/\"vmodes/phi_u_10.zarr\",\n",
    "             \"v\": worksha/\"vmodes/phi_v.zarr\"\n",
    "            }\n",
    "             \n",
    "#ssh_path = Path(\"/store/albert7a/eNATL60/zarr/eNATL60-BLBT02-SSH-1h\") # zarr\n",
    "grid_path = scratchdir/\"mesh_mask_eNATL60_3.6.nc\"\n"
   ]
  },
  {
   "cell_type": "code",
   "execution_count": 32,
   "metadata": {},
   "outputs": [],
   "source": [
    "# dates and variables: will do all available if None is specified\n",
    "my_dates = None\n",
    "my_vars = None # list or str with \"pres\", \"u\", \"v\", or None for all"
   ]
  },
  {
   "cell_type": "code",
   "execution_count": 30,
   "metadata": {},
   "outputs": [],
   "source": [
    "def get_modamp_path(var=None, date=None, path=None):\n",
    "    \"\"\" get paths for modal projections. this should go in utils \n",
    "    Parameters\n",
    "    __________\n",
    "    var: str or list of str, optional\n",
    "        variable name(s). None wil do all variables available\n",
    "    date: str or list of str\n",
    "        dates, format \"yyyymmdd\". None will do all available\n",
    "    path: str or pathlib object, optional\n",
    "        Path to modal projections. None will use default\n",
    "    filename: str, optional\n",
    "        name of files (can take 2 format arguments for var and date)\n",
    "    \n",
    "    Returns:\n",
    "        dico with \n",
    "    \"\"\"\n",
    "    if path is None:\n",
    "        path = Path(\"/work/CT1/ige2071/SHARED/modal_proj\")\n",
    "    if filename is None:\n",
    "        filename = \"modamp_{}_global_{}.zarr\" # .format(var, date)\n",
    "    if var is None:\n",
    "        var = [p for p in path.glob(\"*\") if p.is_dir()]\n",
    "    if date is None:\n",
    "        dico = {v:list( (path/\"modamp_{}\".format(v)).glob(filename.format(v, \"*\")) ) for v in var}\n",
    "    else:\n",
    "        dico = {v:[path/\"modamp_{}\".format(v)/filename.format(v, da) for d in list(date)] for v in var}\n",
    "    return dico"
   ]
  },
  {
   "cell_type": "code",
   "execution_count": null,
   "metadata": {},
   "outputs": [],
   "source": [
    "### load data\n",
    "data_path = get_modamp_path(var=my_vars, date=my_dates)\n",
    "ds = xr.Dataset()\n",
    "for k,v in data_path.items():\n",
    "    ds = ds.merge(xr.open_mfdataset(v, concat_dim=\"t\", combine=\"nested\", engine=\"zarr\"), join=\"inner\")\n",
    "ds\n",
    "chks = {k[0]:v[0] for k,v in ds.chunks.items() if k in [\"x_c\", \"y_c\"]}\n",
    "\n",
    "### add lon, lat coords\n",
    "for c in [\"llon_cc\", \"llat_cc\"]:\n",
    "    if c in ds.coords:\n",
    "        ds[c] = ut.open_one_coord(grid_path, chunks=chks, varname=c)[c]\n",
    "    else:\n",
    "        ds = ds.assign_coords({c:ut.open_one_coord(grid_path, chunks=chks, varname=c)[c]})\n",
    "ds\n",
    "\n",
    "### add a mask, from mode file\n",
    "dm = xr.open_zarr(vmod_path).chunk({k+\"_c\":chks[k] for k in [\"x\",\"y\"]})\n",
    "mask = (~xr.ufuncs.isnan(dm.norm.isel(mode=0)).reset_coords(drop=True)).persist()\n",
    "ds = ds.assign_coords(mask=mask)"
   ]
  },
  {
   "cell_type": "code",
   "execution_count": 27,
   "metadata": {},
   "outputs": [
    {
     "data": {
      "text/plain": [
       "[PosixPath('/Users/nlahaye/Documents/Zoe_drifters'),\n",
       " PosixPath('/Users/nlahaye/Documents/Docs_guides'),\n",
       " PosixPath('/Users/nlahaye/Documents/.DS_Store'),\n",
       " PosixPath('/Users/nlahaye/Documents/Thermal_RSW'),\n",
       " PosixPath('/Users/nlahaye/Documents/Past_stuff'),\n",
       " PosixPath('/Users/nlahaye/Documents/Projects'),\n",
       " PosixPath('/Users/nlahaye/Documents/Admin'),\n",
       " PosixPath('/Users/nlahaye/Documents/.#tamere.cpp'),\n",
       " PosixPath('/Users/nlahaye/Documents/Comm'),\n",
       " PosixPath('/Users/nlahaye/Documents/tiddlers_rep'),\n",
       " PosixPath('/Users/nlahaye/Documents/Bouquins'),\n",
       " PosixPath('/Users/nlahaye/Documents/Notes_misc'),\n",
       " PosixPath('/Users/nlahaye/Documents/Zotero'),\n",
       " PosixPath('/Users/nlahaye/Documents/Reviewing'),\n",
       " PosixPath('/Users/nlahaye/Documents/InternalWaves'),\n",
       " PosixPath('/Users/nlahaye/Documents/WebEx'),\n",
       " PosixPath('/Users/nlahaye/Documents/MyBox_Seafile'),\n",
       " PosixPath('/Users/nlahaye/Documents/Lens_Instab'),\n",
       " PosixPath('/Users/nlahaye/Documents/Taff_divers'),\n",
       " PosixPath('/Users/nlahaye/Documents/Docs_Science_Misc'),\n",
       " PosixPath('/Users/nlahaye/Documents/Personnel')]"
      ]
     },
     "execution_count": 27,
     "metadata": {},
     "output_type": "execute_result"
    }
   ],
   "source": [
    "plot_kwgs = {\"figsize\":(12,8),\n",
    "                 \"central_lon\":-28, \"extent\":[-100, 2, 6, 62]\n",
    "                }                 \n",
    "                 \n",
    "def prep_one_plot(**kwargs):\n",
    "    plot_kwgs = plot_kwgs.copy()\n",
    "    plot_kwgs.update(kwargs)\n",
    "    map_proj = ccrs.Robinson(central_longitude=plot_kwgs[\"central_lon\"])\n",
    "\n",
    "    fig = plt.figure(figsize=plot_kwgs[\"figsize\"])\n",
    "    ax = plt.axes(projection=map_proj)\n",
    "    gl = ax.gridlines()\n",
    "    ax.add_feature(cfeature.LAND, facecolor=\"lightgray\")\n",
    "    ax.set_extent(plot_kwgs[\"extent\"])\n",
    "    return fig, ax\n",
    "                     "
   ]
  },
  {
   "cell_type": "code",
   "execution_count": 27,
   "metadata": {},
   "outputs": [
    {
     "data": {
      "text/plain": [
       "[PosixPath('/Users/nlahaye/Documents/Zoe_drifters'),\n",
       " PosixPath('/Users/nlahaye/Documents/Docs_guides'),\n",
       " PosixPath('/Users/nlahaye/Documents/.DS_Store'),\n",
       " PosixPath('/Users/nlahaye/Documents/Thermal_RSW'),\n",
       " PosixPath('/Users/nlahaye/Documents/Past_stuff'),\n",
       " PosixPath('/Users/nlahaye/Documents/Projects'),\n",
       " PosixPath('/Users/nlahaye/Documents/Admin'),\n",
       " PosixPath('/Users/nlahaye/Documents/.#tamere.cpp'),\n",
       " PosixPath('/Users/nlahaye/Documents/Comm'),\n",
       " PosixPath('/Users/nlahaye/Documents/tiddlers_rep'),\n",
       " PosixPath('/Users/nlahaye/Documents/Bouquins'),\n",
       " PosixPath('/Users/nlahaye/Documents/Notes_misc'),\n",
       " PosixPath('/Users/nlahaye/Documents/Zotero'),\n",
       " PosixPath('/Users/nlahaye/Documents/Reviewing'),\n",
       " PosixPath('/Users/nlahaye/Documents/InternalWaves'),\n",
       " PosixPath('/Users/nlahaye/Documents/WebEx'),\n",
       " PosixPath('/Users/nlahaye/Documents/MyBox_Seafile'),\n",
       " PosixPath('/Users/nlahaye/Documents/Lens_Instab'),\n",
       " PosixPath('/Users/nlahaye/Documents/Taff_divers'),\n",
       " PosixPath('/Users/nlahaye/Documents/Docs_Science_Misc'),\n",
       " PosixPath('/Users/nlahaye/Documents/Personnel')]"
      ]
     },
     "execution_count": 27,
     "metadata": {},
     "output_type": "execute_result"
    }
   ],
   "source": [
    "### exemple of plot\n",
    "it, imod = 12, 1\n",
    "pmod_moy = ds.pres.sel(mode=imod).mean(\"t\")\n",
    "toplot = (ds.pres.isel(t=it)-pmod_moy).persist().squeeze()"
   ]
  },
  {
   "cell_type": "code",
   "execution_count": 27,
   "metadata": {},
   "outputs": [
    {
     "data": {
      "text/plain": [
       "[PosixPath('/Users/nlahaye/Documents/Zoe_drifters'),\n",
       " PosixPath('/Users/nlahaye/Documents/Docs_guides'),\n",
       " PosixPath('/Users/nlahaye/Documents/.DS_Store'),\n",
       " PosixPath('/Users/nlahaye/Documents/Thermal_RSW'),\n",
       " PosixPath('/Users/nlahaye/Documents/Past_stuff'),\n",
       " PosixPath('/Users/nlahaye/Documents/Projects'),\n",
       " PosixPath('/Users/nlahaye/Documents/Admin'),\n",
       " PosixPath('/Users/nlahaye/Documents/.#tamere.cpp'),\n",
       " PosixPath('/Users/nlahaye/Documents/Comm'),\n",
       " PosixPath('/Users/nlahaye/Documents/tiddlers_rep'),\n",
       " PosixPath('/Users/nlahaye/Documents/Bouquins'),\n",
       " PosixPath('/Users/nlahaye/Documents/Notes_misc'),\n",
       " PosixPath('/Users/nlahaye/Documents/Zotero'),\n",
       " PosixPath('/Users/nlahaye/Documents/Reviewing'),\n",
       " PosixPath('/Users/nlahaye/Documents/InternalWaves'),\n",
       " PosixPath('/Users/nlahaye/Documents/WebEx'),\n",
       " PosixPath('/Users/nlahaye/Documents/MyBox_Seafile'),\n",
       " PosixPath('/Users/nlahaye/Documents/Lens_Instab'),\n",
       " PosixPath('/Users/nlahaye/Documents/Taff_divers'),\n",
       " PosixPath('/Users/nlahaye/Documents/Docs_Science_Misc'),\n",
       " PosixPath('/Users/nlahaye/Documents/Personnel')]"
      ]
     },
     "execution_count": 27,
     "metadata": {},
     "output_type": "execute_result"
    }
   ],
   "source": [
    "norm = mpl.colors.Normalize(vmin=-.1, vmax=.1)\n",
    "cmap = \"RdBu_r\"\n",
    "\n",
    "fig, ax = prep_one_plot()\n",
    "p = toplot.plot.pcolormesh(ax=ax, transform=ccrs.PlateCarree(), \n",
    "                                     x=\"llon_cc\", y=\"llat_cc\", \n",
    "                                    norm=norm, cmap=cmap)"
   ]
  }
 ],
 "metadata": {
  "kernelspec": {
   "display_name": "Python 3",
   "language": "python",
   "name": "python3"
  },
  "language_info": {
   "codemirror_mode": {
    "name": "ipython",
    "version": 3
   },
   "file_extension": ".py",
   "mimetype": "text/x-python",
   "name": "python",
   "nbconvert_exporter": "python",
   "pygments_lexer": "ipython3",
   "version": "3.8.10"
  }
 },
 "nbformat": 4,
 "nbformat_minor": 5
}
