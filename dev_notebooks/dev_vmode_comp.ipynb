{
 "cells": [
  {
   "cell_type": "markdown",
   "id": "90d957b3",
   "metadata": {},
   "source": [
    "## dev_vmodes_comp\n",
    "development of vertical mode decomposition for NEMO. z-level with partial step formulation\n",
    "\n",
    "solving the following problem: $ w' + p = 0, p' = \\lambda N^2 w$ with B.C.s $w(-H)=0$ and $w(0)=0$ or free surface. (note that $w$ is not actual vertical velocity)\n",
    "\n",
    "Free surface reads: $p' + N^2/g p = 0, z=0$. Translates to $w(0)\\lambda(1+N^2(0)\\delta_z/2) + p(-1/2) = 0$.\n",
    "\n",
    "Implementation adapted for: \n",
    "* grid with negative increasing depth (z(0)=0, z(N)=-H) -> signed reversed for diff matrix\n",
    "* spacing provided (positive, i.e. with z-cordinate upward )\n",
    "* staggered formulation with w (N) at left points, p at center. Use w=0 at extra point (bottom) by not writing anything (line substitution)"
   ]
  },
  {
   "cell_type": "code",
   "execution_count": 1,
   "id": "37a64ed3",
   "metadata": {},
   "outputs": [],
   "source": [
    "%matplotlib widget\n",
    "import matplotlib as mpl\n",
    "from matplotlib import pyplot as plt\n",
    "\n",
    "import numpy as np\n",
    "import scipy.sparse as sp\n",
    "import scipy.sparse.linalg as la\n",
    "from scipy.linalg import eig\n",
    "from scipy.optimize import root\n"
   ]
  },
  {
   "cell_type": "code",
   "execution_count": 2,
   "id": "bbab2dd4",
   "metadata": {},
   "outputs": [
    {
     "data": {
      "application/vnd.jupyter.widget-view+json": {
       "model_id": "83f817213296499093c4469ce916abcc",
       "version_major": 2,
       "version_minor": 0
      },
      "text/plain": [
       "Canvas(toolbar=Toolbar(toolitems=[('Home', 'Reset original view', 'home', 'home'), ('Back', 'Back to previous …"
      ]
     },
     "metadata": {},
     "output_type": "display_data"
    }
   ],
   "source": [
    "Nz = 60\n",
    "Hbot = 2e3\n",
    "Nsqr = 1e-3 * np.ones(Nz)\n",
    "\n",
    "free_surf = False\n",
    "nmodes = 9\n",
    "sigma = .1\n",
    "g = 9.81\n",
    "\n",
    "stretch = \"lin\" # \"exp\", \"lin\"\n",
    "sig = np.linspace(0, -1, Nz+1)\n",
    "if stretch == \"lin\":\n",
    "    z_f = sig * Hbot\n",
    "elif stretch == \"exp\":\n",
    "    z_f = (np.exp(sig)-1)/(1-np.exp(-1)) * Hbot #sig*Hbot #np.linspace(0, -Hbot, Nz+1)\n",
    "else:\n",
    "    raise ValueError('stretching unknon')\n",
    "    \n",
    "#z_f = np.linspace()\n",
    "z_c = .5*(z_f[1:]+z_f[:-1])\n",
    "if False:\n",
    "    dzc, dzf = 1./np.arange(1,Nz+1), 1./np.arange(1,Nz)\n",
    "else:\n",
    "    dzc, dzf = -np.diff(z_f), -np.diff(z_c)\n",
    "z_i = z_f[1:-1]\n",
    "\n",
    "f_test = lambda z: np.exp((z+Hbot)/Hbot) - 1\n",
    "df_t = lambda z: np.exp((z+Hbot)/Hbot)/Hbot\n",
    "\n",
    "plt.figure()\n",
    "plt.plot(np.arange(Nz+1), z_f, \".-\")\n",
    "plt.title(\"grid\")\n",
    "plt.grid(True)\n"
   ]
  },
  {
   "cell_type": "code",
   "execution_count": 3,
   "id": "3eb2dff7",
   "metadata": {},
   "outputs": [
    {
     "data": {
      "application/vnd.jupyter.widget-view+json": {
       "model_id": "06bb5bc9191148b6a43f749858a7aaa6",
       "version_major": 2,
       "version_minor": 0
      },
      "text/plain": [
       "Canvas(toolbar=Toolbar(toolitems=[('Home', 'Reset original view', 'home', 'home'), ('Back', 'Back to previous …"
      ]
     },
     "metadata": {},
     "output_type": "display_data"
    },
    {
     "data": {
      "text/plain": [
       "<matplotlib.image.AxesImage at 0x7fc5033b75e0>"
      ]
     },
     "execution_count": 3,
     "metadata": {},
     "output_type": "execute_result"
    }
   ],
   "source": [
    "### vertical derivative matrix, w-to-p grids, taking left w-points (assume w(N+1)=0)\n",
    "v12 =  np.stack([-1./np.r_[np.ones(1),dzc], 1./np.r_[dzc, np.ones(1)]])\n",
    "Dw2p = sp.spdiags(v12,[1, 0],Nz,Nz,format=\"lil\")\n",
    "\n",
    "### vertical derivative matrix, p-to-w grids, targetting inner w points only\n",
    "v12 =  np.stack([-1./np.r_[np.ones(1),dzf], 1./np.r_[dzf, np.ones(1)]])\n",
    "Dp2w = sp.spdiags(v12,[1, 0],Nz-1,Nz,format=\"lil\")\n",
    "\n",
    "fig, axs = plt.subplots(1, 2)\n",
    "ax = axs[0]\n",
    "ax.imshow(Dw2p.toarray(), cmap=\"seismic\")\n",
    "ax = axs[1]\n",
    "ax.imshow(Dp2w.toarray(), cmap=\"seismic\")\n"
   ]
  },
  {
   "cell_type": "code",
   "execution_count": 4,
   "id": "0754b02c",
   "metadata": {},
   "outputs": [
    {
     "data": {
      "application/vnd.jupyter.widget-view+json": {
       "model_id": "89e3c600d2e14021a90ec01f13293e0b",
       "version_major": 2,
       "version_minor": 0
      },
      "text/plain": [
       "Canvas(toolbar=Toolbar(toolitems=[('Home', 'Reset original view', 'home', 'home'), ('Back', 'Back to previous …"
      ]
     },
     "metadata": {},
     "output_type": "display_data"
    }
   ],
   "source": [
    "### check that differentiation matrices are correct\n",
    "fig, axs = plt.subplots(1, 2, sharey=True)\n",
    "ax = axs[0]\n",
    "ax.plot(Dw2p * f_test(z_f[:-1]), z_c, \".-\", label=\"numeric, w2p\")\n",
    "ax.plot(df_t(z_c), z_c, \"--\", label=\"analytic, w2p\")\n",
    "\n",
    "ax.plot(Dp2w * f_test(z_c), z_i, marker=\"+\", linestyle=\"None\", label=\"numeric, p2w\")\n",
    "ax.plot(df_t(z_f), z_f, \"--\", label=\"analytic, w2p\")\n",
    "ax.set_title('derivative')\n",
    "ax.legend()\n",
    "\n",
    "ax = axs[1]\n",
    "ax.plot(f_test(z_f), z_f, marker=\".\", color=\"k\")\n",
    "ax.set_title(r\"function $f(z)$\")\n",
    "\n",
    "for ax in axs:\n",
    "    ax.grid(True)"
   ]
  },
  {
   "cell_type": "code",
   "execution_count": 5,
   "id": "71650d43",
   "metadata": {},
   "outputs": [
    {
     "data": {
      "application/vnd.jupyter.widget-view+json": {
       "model_id": "5fcf99d9e9844ee68f3fc553c8493c64",
       "version_major": 2,
       "version_minor": 0
      },
      "text/plain": [
       "Canvas(toolbar=Toolbar(toolitems=[('Home', 'Reset original view', 'home', 'home'), ('Back', 'Back to previous …"
      ]
     },
     "metadata": {},
     "output_type": "display_data"
    },
    {
     "data": {
      "text/plain": [
       "<matplotlib.image.AxesImage at 0x7fc503bf62e0>"
      ]
     },
     "execution_count": 5,
     "metadata": {},
     "output_type": "execute_result"
    }
   ],
   "source": [
    "# Adjust matrix for BCs\n",
    "if Nsqr.size == Nz+1:\n",
    "    Nsqri = Nsqr[1:-1]\n",
    "elif Nsqr.size == Nz:\n",
    "    Nsqri = Nsqr[1:]\n",
    "    \n",
    "if free_surf and g>0:\n",
    "    invg = np.ones(1)/g\n",
    "else:\n",
    "    invg = np.zeros(1)\n",
    "Nsqog = Nsqr[:1]*invg\n",
    "\n",
    "dz_surf = abs(z_c[0])\n",
    "\n",
    "### error in the implementation of free surface. \n",
    "# I used w=-p', but it is w' = -p and p' = lam*N^2*w. \n",
    "# correct, starting from equation p' + N2/g p = 0 at z = 0\n",
    "B = sp.diags(np.r_[np.zeros(Nz), 1.+Nsqog*dz_surf/2., Nsqri], 0, (2*Nz,2*Nz), format=\"lil\")\n",
    "Awp = sp.vstack([np.r_[invg, np.zeros(Nz-1)], Dp2w])\n",
    "Aww = None #sp.diags(np.r_[np.ones(1)+Nsqog*dz_surf, np.zeros(Nz-1)], 0, (Nz,Nz))\n",
    "A = sp.bmat([ [ sp.identity(Nz), Dw2p ], \n",
    "              [ Awp,             Aww  ]\n",
    "            ])\n",
    "\n",
    "fig, axs = plt.subplots(1, 2)\n",
    "ax = axs[0]\n",
    "ax.imshow(A.toarray())\n",
    "ax = axs[1]\n",
    "ax.imshow(B.toarray())"
   ]
  },
  {
   "cell_type": "code",
   "execution_count": 6,
   "id": "1bd51b7a",
   "metadata": {},
   "outputs": [
    {
     "data": {
      "application/vnd.jupyter.widget-view+json": {
       "model_id": "9166532d4fae49e8b75e5d1789f5561c",
       "version_major": 2,
       "version_minor": 0
      },
      "text/plain": [
       "Canvas(toolbar=Toolbar(toolitems=[('Home', 'Reset original view', 'home', 'home'), ('Back', 'Back to previous …"
      ]
     },
     "metadata": {},
     "output_type": "display_data"
    },
    {
     "data": {
      "text/plain": [
       "Text(0.5, 1.0, 'guess: 0.00e+00, found: 4.77e-05')"
      ]
     },
     "execution_count": 6,
     "metadata": {},
     "output_type": "execute_result"
    }
   ],
   "source": [
    "### analytical solution for free surface\n",
    "\n",
    "imod = 0\n",
    "\n",
    "fun = lambda x: x * g / Hbot / Nsqr[0]**.5 * np.sin(x*Nsqr[0]**.5) - np.cos(x*Nsqr[0]**.5)\n",
    "init_guess = lambda imod: np.pi*imod/Nsqr.mean()**.5\n",
    "res = root(fun, init_guess(imod))\n",
    "\n",
    "xx = np.linspace(0,init_guess(imod+2)/Hbot,200)\n",
    "plt.figure()\n",
    "plt.plot(xx, fun(xx*Hbot))\n",
    "plt.plot(res.x/Hbot, 0, \"*r\")\n",
    "plt.grid(True)\n",
    "plt.title(\"guess: {:.2e}, found: {:.2e}\".format((init_guess(imod)/Hbot)**2, (res.x[0]/Hbot)**2))\n"
   ]
  },
  {
   "cell_type": "code",
   "execution_count": 7,
   "id": "a464021e",
   "metadata": {},
   "outputs": [
    {
     "data": {
      "application/vnd.jupyter.widget-view+json": {
       "model_id": "ea4fb7d0e7c3450b94a916af5a61177b",
       "version_major": 2,
       "version_minor": 0
      },
      "text/plain": [
       "Canvas(toolbar=Toolbar(toolitems=[('Home', 'Reset original view', 'home', 'home'), ('Back', 'Back to previous …"
      ]
     },
     "metadata": {},
     "output_type": "display_data"
    },
    {
     "data": {
      "text/plain": [
       "Text(0, 0.5, 'error (grey)')"
      ]
     },
     "execution_count": 7,
     "metadata": {},
     "output_type": "execute_result"
    }
   ],
   "source": [
    "nmod = Nz//4\n",
    "\n",
    "if free_surf and g>0:\n",
    "    ana = np.array([root(fun, init_guess(imod)).x[0] for imod in np.arange(nmod)])/Hbot\n",
    "else:\n",
    "    ana = init_guess(np.arange(nmod))/Hbot\n",
    "ana = ana**2\n",
    "\n",
    "### compute numerical solution\n",
    "if Nz > 40:\n",
    "    ev,ef = la.eigs(A.tocsc(), k=nmod, M=B.tocsc(), sigma=sigma)\n",
    "else:\n",
    "    Adens = A.toarray()\n",
    "    Bdens = B.toarray()\n",
    "    ev, ef = eig(Adens, Bdens)\n",
    "    \n",
    "inds = np.isfinite(ev)\n",
    "ev, ef = ev[inds], ef[:,inds]\n",
    "pmod, wmod = ef[:Nz,:], -ef[Nz:,:]\n",
    "\n",
    "isort = np.argsort(ev.real)[:nmod]\n",
    "\n",
    "fig = plt.figure()\n",
    "ax = plt.gca()\n",
    "ax.plot(np.arange(nmod), ev[isort].real, \"X\")\n",
    "ax.plot(np.arange(nmod), ana, \"+-\")\n",
    "ax.set_ylabel(r'$\\lambda$')\n",
    "bx = ax.twinx()\n",
    "bx.plot(np.arange(nmod), ev[isort].real - ana, \".-\", color=\"grey\")\n",
    "ax.grid(True)\n",
    "bx.set_ylabel('error (grey)')"
   ]
  },
  {
   "cell_type": "code",
   "execution_count": 9,
   "id": "e674505d",
   "metadata": {},
   "outputs": [
    {
     "data": {
      "application/vnd.jupyter.widget-view+json": {
       "model_id": "92c4a8c9c8874c5990874f6a53e92a6f",
       "version_major": 2,
       "version_minor": 0
      },
      "text/plain": [
       "Canvas(toolbar=Toolbar(toolitems=[('Home', 'Reset original view', 'home', 'home'), ('Back', 'Back to previous …"
      ]
     },
     "metadata": {},
     "output_type": "display_data"
    }
   ],
   "source": [
    "max_mod = min(5, nmod) # nmod\n",
    "fig, axs = plt.subplots(2, max_mod, sharey=True, figsize=(max_mod*2, 6))\n",
    "for imo,ii in enumerate(isort[:max_mod]):\n",
    "    ax = axs[0,imo]\n",
    "    ax.plot(pmod[:,ii].real, z_c, pmod[:,ii].imag, z_c, \"--\")\n",
    "    ax.plot(Dw2p * wmod[:,ii].real, z_c, \"--\")\n",
    "    ax.set_title(\"{0:.2e} vs {1:.2e}\".format(ev[ii].real, ana[imo]))\n",
    "    ax = axs[1,imo]\n",
    "    ax.plot(wmod[:,ii].real, z_c, wmod[:,ii].imag, z_c, \"--\")\n",
    "for ax in axs.ravel():\n",
    "    ax.grid(True)\n"
   ]
  },
  {
   "cell_type": "code",
   "execution_count": 24,
   "id": "d728f088",
   "metadata": {},
   "outputs": [],
   "source": [
    "### construct corresponding function\n",
    "_kwg_vmode = {\"free_surf\": True, \"g\": 9.81, Hbot: None, \"sigma\": .1, \"siz_sparse\":30} #\"nmodes\":11, \n",
    "\n",
    "def compute_vmodes_1D(N2l, dzc=None, dzf=None, zc=None, zf=None, nmodes=10, **kwargs):\n",
    "    \"\"\"\n",
    "    Compute vertical modes from stratification. \n",
    "    Adapted for nemo z-grid with partial steps: ordered with increasing depth, w points = left points\n",
    "    not tested for other vertical grid types\n",
    "\n",
    "    Parameters:\n",
    "    ___________\n",
    "    N2f: (N) ndarray\n",
    "        Brunt-Vaisala frequency at cell left faces\n",
    "    dzc: (N) ndarray, optional\n",
    "        vertical grid spacing at cell centers\n",
    "    dzf: (N) ndarray, optional\n",
    "        vertical grid spacing at cell left points\n",
    "    zc: (N) ndarray, optional\n",
    "        vertical grid at cell centers\n",
    "    zf: (N) or (N+1) ndarray, optional\n",
    "        vertical grid at cell faces or cell left points\n",
    "    nmodes: int, optional (default: 10)\n",
    "        number of baroclinic modes to compute (barotropic mode will be added)\n",
    "    Hbot: float, optional\n",
    "        bottom depth. Must be provided if dzc not passed and zf does not include bottom point (size N). Ignored otherwise\n",
    "    free_surf: bool, optional (default: True)\n",
    "        whether using a free-surface condition or rigid lid\n",
    "    g: float, optional (default: 9.81)\n",
    "        gravity constant (if 0, will do rigid lid, overriding free_surf)\n",
    "    sigma: float, optional\n",
    "        parameter for shift-invert method in scipy.linalg.eig (default: _sig)\n",
    "\n",
    "    Returns:\n",
    "    ________\n",
    "    c: (nmodes) ndarray\n",
    "        eigenvalues (pseudo phase speed, c=1/k)\n",
    "    phi: (N,nmodes) ndarray\n",
    "        p-like modes at cell centers\n",
    "    dphidz: (N+1,nmodes) ndarray\n",
    "        w-like modes at cell interfaces (= dphi / dz)\n",
    "\n",
    "    Notes:\n",
    "    ______\n",
    "    The vertical modes are definied following the equation:\n",
    "    .. math:: (\\phi'/N^2)' + k^2\\phi=0 \n",
    "    with boundary condition :math:`\\phi'=0` at the bottom and :math:`g\\phi' + N^2\\phi=0` at the surface (or :math:`\\phi'=0` for a rigid lid condition). \n",
    "    Computation of the vertical modes is performed using second order finite difference on staggered grids\n",
    "\n",
    "    \"\"\" \n",
    "    \n",
    "    ### extract keywords\n",
    "    kwgs = _kwg_vmode.copy()\n",
    "    kwgs.update(kwargs)\n",
    "    free_surf, g = kwgs[\"free_surf\"], kwgs[\"g\"]\n",
    "    \n",
    "    ### deal with vertical grids\n",
    "    Nz = Nsqr.size\n",
    "    if dzc is not None and dzf is not None:\n",
    "        if zc is not None:\n",
    "            dz_surf = abs(zc[0])\n",
    "        else:\n",
    "            dz_surf = .25*(dzc[0] + dzf[0]) ### this is NEMO grid\n",
    "    elif zc is not None and zf is not None:\n",
    "        if zf.size == zc.size:\n",
    "            if kwgs[\"hbot\"] is None:\n",
    "                raise ValueError(\"must specify w-grid at outer points or Hbot\")\n",
    "            else:\n",
    "                zf = np.r_[zf, -abs(kwgs[\"Hbot\"])]\n",
    "        elif zf.size != zc.size+1:\n",
    "            raise ValueError(\"incompatible sizes between zc grid and zf grid\")\n",
    "        dzc = np.diff(zf)\n",
    "        dzf = np.diff(zc)\n",
    "    else:\n",
    "        raise ValueError(\"must specify either grid increments dzc, dzf or z grids zc, zf\") \n",
    "\n",
    "    ### construct sparse matrices for differentiation\n",
    "    # vertical derivative matrix, w-to-p grids, taking left w-points (assume w(N+1)=0)\n",
    "    v12 =  np.stack([-1./np.r_[np.ones(1),dzc], 1./np.r_[dzc, np.ones(1)]])\n",
    "    Dw2p = sp.spdiags(v12,[1, 0],Nz,Nz,format=\"lil\")\n",
    "\n",
    "    # vertical derivative matrix, p-to-w grids, targetting inner w points only\n",
    "    v12 =  np.stack([-1./np.r_[np.ones(1),dzf], 1./np.r_[dzf, np.ones(1)]])\n",
    "    Dp2w = sp.spdiags(v12,[1, 0],Nz-1,Nz,format=\"lil\")\n",
    "    \n",
    "    ### construct eigenproblem. State vector is (p=-w', w) (w is not true vertical velocity)\n",
    "    # eigen problem is \n",
    "    # (1 Dz) * psi = lam * (0 0 ) * psi\n",
    "    # (Dz 0)               (0 N2)\n",
    "    # plus corrections for boundary condition at the surface\n",
    "    if free_surf and g>0:\n",
    "        invg = np.ones(1)/g\n",
    "    else:\n",
    "        invg = np.zeros(1)\n",
    "    Nsqog = Nsqr[:1]*invg\n",
    "\n",
    "    B = sp.diags(np.r_[np.zeros(Nz), 1.+Nsqog*dz_surf/2., Nsqr[1:]], 0, (2*Nz,2*Nz), format=\"lil\")\n",
    "    Awp = sp.vstack([np.r_[-invg, np.zeros(Nz-1)], Dp2w])\n",
    "    Aww = None #sp.diags(np.r_[np.ones(1)+Nsqog*dz_surf, np.zeros(Nz-1)], 0, (Nz,Nz))\n",
    "    A = sp.bmat([ [ sp.identity(Nz), Dw2p ], \n",
    "                  [ Awp,             Aww  ]\n",
    "                ])\n",
    "    \n",
    "    ### compute numerical solution\n",
    "    if Nz >= kwgs[\"siz_sparse\"]:\n",
    "        ev,ef = la.eigs(A.tocsc(), k=nmodes+1, M=B.tocsc(), sigma=sigma)\n",
    "    else:\n",
    "        Adens = A.toarray()\n",
    "        Bdens = B.toarray()\n",
    "        ev, ef = eig(Adens, Bdens)\n",
    "\n",
    "    inds = np.isfinite(ev)\n",
    "    ev, ef = ev[inds].real, ef[:,inds].real\n",
    "    isort = np.argsort(ev)[:nmodes+1]\n",
    "    ev, ef = ev[isort], ef[:,isort]\n",
    "    pmod, wmod = ef[:Nz,:], ev[None,:]*Nsqr[:,None]*ef[Nz:,:]\n",
    "    return 1./ev**.5, pmod, wmod\n",
    "\n",
    "def _compute_vmodes_1D_stack(N2l, dzc, dzf, **kwargs):\n",
    "    return np.vstack(compute_vmodes_1D(N2l, dzc=dzc, dzf=dzf, **kwargs))"
   ]
  },
  {
   "cell_type": "code",
   "execution_count": 28,
   "id": "94d47b09",
   "metadata": {},
   "outputs": [],
   "source": [
    "c, pp, ww = compute_vmodes_1D(Nsqr, dzc=dzc, dzf=np.r_[dzf[:1], dzf])"
   ]
  },
  {
   "cell_type": "code",
   "execution_count": 30,
   "id": "e03382e7",
   "metadata": {},
   "outputs": [
    {
     "data": {
      "text/plain": [
       "array([-4.72328368e-08,  8.91826412e-07,  1.82871892e-06,  2.75183983e-06,\n",
       "        3.66457501e-06, -4.56604410e-06, -5.45436385e-06, -6.32736118e-06,\n",
       "       -7.18277722e-06,  8.01834306e-06, -8.83181454e-06,  9.62099170e-06])"
      ]
     },
     "execution_count": 30,
     "metadata": {},
     "output_type": "execute_result"
    }
   ],
   "source": [
    "res = _compute_vmodes_1D_stack(Nsqr, dzc, np.r_[dzf[:1], dzf], nmodes=11)\n",
    "res[Nz+1,:]"
   ]
  },
  {
   "cell_type": "code",
   "execution_count": 33,
   "id": "0889a5eb",
   "metadata": {},
   "outputs": [
    {
     "data": {
      "text/plain": [
       "array([-4.72328368e-08, -8.91826412e-07,  1.82871892e-06, -2.75183983e-06,\n",
       "        3.66457501e-06,  4.56604410e-06, -5.45436385e-06, -6.32736118e-06,\n",
       "       -7.18277722e-06, -8.01834306e-06, -8.83181454e-06])"
      ]
     },
     "execution_count": 33,
     "metadata": {},
     "output_type": "execute_result"
    }
   ],
   "source": [
    "ww[0,:]"
   ]
  },
  {
   "cell_type": "code",
   "execution_count": 116,
   "id": "5440c692",
   "metadata": {},
   "outputs": [
    {
     "data": {
      "application/vnd.jupyter.widget-view+json": {
       "model_id": "f1f7f1dde72449abba55147ef750252f",
       "version_major": 2,
       "version_minor": 0
      },
      "text/plain": [
       "Canvas(toolbar=Toolbar(toolitems=[('Home', 'Reset original view', 'home', 'home'), ('Back', 'Back to previous …"
      ]
     },
     "metadata": {},
     "output_type": "display_data"
    },
    {
     "data": {
      "text/plain": [
       "Text(0.5, 1.0, '1.97e+01')"
      ]
     },
     "execution_count": 116,
     "metadata": {},
     "output_type": "execute_result"
    }
   ],
   "source": [
    "imod = 1\n",
    "plt.figure()\n",
    "plt.plot(pp[:,imod], z_c)\n",
    "plt.grid(True)\n",
    "bx = plt.gca().twiny()\n",
    "bx.plot(ww[:,imod], z_f[:-1], \"--\")\n",
    "bx.plot(np.gradient(pp[:,imod], z_c), z_c, \":\")\n",
    "plt.title(\"{:.2e}\".format(c[imod]))"
   ]
  },
  {
   "cell_type": "code",
   "execution_count": 120,
   "id": "313ed508",
   "metadata": {},
   "outputs": [
    {
     "data": {
      "application/vnd.jupyter.widget-view+json": {
       "model_id": "cfd5b5ea88fb4e69aa19226227d9bdbb",
       "version_major": 2,
       "version_minor": 0
      },
      "text/plain": [
       "Canvas(toolbar=Toolbar(toolitems=[('Home', 'Reset original view', 'home', 'home'), ('Back', 'Back to previous …"
      ]
     },
     "metadata": {},
     "output_type": "display_data"
    }
   ],
   "source": [
    "### verify boundary condition\n",
    "nmod = c.size\n",
    "dpdz = np.gradient(pp, z_c, axis=0)\n",
    "dwoNdz = np.gradient(ww/Nsqr[:,None], z_f[:-1], axis=0)\n",
    "lesig = np.sign(ww[0,:])\n",
    "\n",
    "plt.figure()\n",
    "plt.plot(np.arange(nmod), lesig*ww[0,:], \"+\", \n",
    "         np.arange(nmod), -lesig*Nsqr[0]/g*pp[0,:], \"--\", \n",
    "         np.arange(nmod), lesig*Nsqr[0]*c**2/g*dwoNdz[0,:], \":\")\n",
    "plt.grid(True)"
   ]
  },
  {
   "cell_type": "code",
   "execution_count": 105,
   "id": "b1ebda30",
   "metadata": {},
   "outputs": [
    {
     "data": {
      "text/plain": [
       "((100, 11), (100,))"
      ]
     },
     "execution_count": 105,
     "metadata": {},
     "output_type": "execute_result"
    }
   ],
   "source": [
    "ww.shape, Nsqr.shape"
   ]
  },
  {
   "cell_type": "code",
   "execution_count": null,
   "id": "569e15fb",
   "metadata": {},
   "outputs": [],
   "source": []
  }
 ],
 "metadata": {
  "kernelspec": {
   "display_name": "Python 3",
   "language": "python",
   "name": "python3"
  },
  "language_info": {
   "codemirror_mode": {
    "name": "ipython",
    "version": 3
   },
   "file_extension": ".py",
   "mimetype": "text/x-python",
   "name": "python",
   "nbconvert_exporter": "python",
   "pygments_lexer": "ipython3",
   "version": "3.9.4"
  }
 },
 "nbformat": 4,
 "nbformat_minor": 5
}
