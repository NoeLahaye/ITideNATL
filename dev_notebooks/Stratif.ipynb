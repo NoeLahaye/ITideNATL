{
 "cells": [
  {
   "cell_type": "markdown",
   "metadata": {},
   "source": [
    "Stratif_essai"
   ]
  },
  {
   "cell_type": "code",
   "execution_count": 1,
   "metadata": {},
   "outputs": [
    {
     "name": "stdout",
     "output_type": "stream",
     "text": [
      "ca marche\n"
     ]
    }
   ],
   "source": [
    "%load_ext memory_profiler\n",
    "%matplotlib inline\n",
    "import matplotlib as mpl\n",
    "from matplotlib import pyplot as plt\n",
    "#from glob import glob\n",
    "from pathlib import Path\n",
    "import os\n",
    "\n",
    "import numpy as np\n",
    "\n",
    "import scipy.interpolate as itp\n",
    "import xarray as xr\n",
    "from xorca.lib import load_xorca_dataset\n",
    "#import gsw\n",
    "\n",
    "print(\"ca marche\")"
   ]
  },
  {
   "cell_type": "code",
   "execution_count": 2,
   "metadata": {},
   "outputs": [
    {
     "data": {
      "text/html": [
       "<table style=\"border: 2px solid white;\">\n",
       "<tr>\n",
       "<td style=\"vertical-align: top; border: 0px solid white\">\n",
       "<h3 style=\"text-align: left;\">Client</h3>\n",
       "<ul style=\"text-align: left; list-style: none; margin: 0; padding: 0;\">\n",
       "  <li><b>Scheduler: </b>tcp://127.0.0.1:53113</li>\n",
       "  <li><b>Dashboard: </b><a href='http://127.0.0.1:8787/status' target='_blank'>http://127.0.0.1:8787/status</a></li>\n",
       "</ul>\n",
       "</td>\n",
       "<td style=\"vertical-align: top; border: 0px solid white\">\n",
       "<h3 style=\"text-align: left;\">Cluster</h3>\n",
       "<ul style=\"text-align: left; list-style:none; margin: 0; padding: 0;\">\n",
       "  <li><b>Workers: </b>8</li>\n",
       "  <li><b>Cores: </b>8</li>\n",
       "  <li><b>Memory: </b>11.18 GiB</li>\n",
       "</ul>\n",
       "</td>\n",
       "</tr>\n",
       "</table>"
      ],
      "text/plain": [
       "<Client: 'tcp://127.0.0.1:53113' processes=8 threads=8, memory=11.18 GiB>"
      ]
     },
     "execution_count": 2,
     "metadata": {},
     "output_type": "execute_result"
    }
   ],
   "source": [
    "from dask.distributed import Client, LocalCluster, wait\n",
    "# Start a local cluster with 4 single-threaded (HDF is triggering errors\n",
    "# if they are multi-threaded) workers which get only 1500 MiB of memory each.\n",
    "cluster = LocalCluster(n_workers=8, threads_per_worker=1, memory_limit=1500e6,\n",
    "                       silence_logs=50)\n",
    "client = Client(address=cluster)\n",
    "client"
   ]
  },
  {
   "cell_type": "code",
   "execution_count": 3,
   "metadata": {},
   "outputs": [],
   "source": [
    "data_path = Path(\"/Volumes/Calcul/eNATL60\")\n",
    "\n",
    "data_fname = \"eNATL60NOE-BLBT02_y2010m01d??.1h_*_0-botm.nc\"\n",
    "grid_fname = [\"mesh_*_eNATL60NOE_3.6.nc\", \"mask_eNATL60NOE_3.6.nc\"]\n",
    "\n",
    "data_files = list(data_path.glob(data_fname))\n",
    "grid_files = sum([list(data_path.glob(fna)) for fna in grid_fname],[]) # trick to flatten: sum([list_of_list],[])"
   ]
  },
  {
   "cell_type": "code",
   "execution_count": 4,
   "metadata": {},
   "outputs": [
    {
     "name": "stdout",
     "output_type": "stream",
     "text": [
      "dataset is 75.3 GB\n",
      "peak memory: 600.67 MiB, increment: 443.42 MiB\n",
      "CPU times: user 25.8 s, sys: 1.25 s, total: 27.1 s\n",
      "Wall time: 34.2 s\n"
     ]
    }
   ],
   "source": [
    "%%time\n",
    "%%memit\n",
    "ds_tot = load_xorca_dataset(data_files=data_files, aux_files=grid_files,\n",
    "                              decode_cf=True, model_config=\"nest\"\n",
    "                             )\n",
    "print(\"dataset is {:.1f} GB\".format(ds_tot.nbytes/1e9))"
   ]
  },
  {
   "cell_type": "code",
   "execution_count": null,
   "metadata": {},
   "outputs": [],
   "source": [
    "ds_tot"
   ]
  },
  {
   "cell_type": "code",
   "execution_count": null,
   "metadata": {},
   "outputs": [],
   "source": [
    "%%time\n",
    "%%memit\n",
    "### compute mean and store in a netCDF file\n",
    "\n",
    "do_cal = False\n",
    "mean_file = \"eNATL60NOE_mean_strat.nc\"\n",
    "mean_file = data_path/mean_file\n",
    "\n",
    "if do_cal:\n",
    "    ds_moy = ds_tot.get([\"vosaline\",\"votemper\"]).mean(\"t\").assign_coords(z_l=ds_tot.z_l)\n",
    "    ds_moy.to_netcdf(mean_file, mode=\"w\")\n",
    "    del ds_moy\n",
    "    \n",
    "ds_moy = xr.load_dataset(mean_file)\n",
    "\n",
    "if \"z_l\" not in ds_moy: # for previous versions\n",
    "    ds_moy = ds_moy.assign_coords(z_l=ds_tot.z_l)\n",
    "    \n",
    "print(\"ds_moy is {:.2e} MB\".format(ds_moy.nbytes/1e6))"
   ]
  },
  {
   "cell_type": "code",
   "execution_count": null,
   "metadata": {},
   "outputs": [],
   "source": [
    "ds_moy = ds_moy.assign_coords(e3w=ds_tot.e3w)"
   ]
  },
  {
   "cell_type": "code",
   "execution_count": null,
   "metadata": {},
   "outputs": [],
   "source": [
    "ds_moy"
   ]
  },
  {
   "cell_type": "code",
   "execution_count": null,
   "metadata": {},
   "outputs": [],
   "source": [
    "from xgcm import Grid\n",
    "\n",
    "#metrics = {\n",
    "#    ('X',): ['e1t', 'e1u', 'e1v', 'e1f'], # X distances\n",
    "#    ('Y',): ['e2t', 'e2u', 'e2v', 'e2f'], # Y distances\n",
    "#    ('Z',): ['e3t', 'e3u', 'e3v', 'e3w'], # Z distances\n",
    "#    #('X', 'Y'): [] # Areas TODO\n",
    "#}\n",
    "#grid = Grid(ds_tot, metrics=metrics, periodic=False)\n",
    "#grid"
   ]
  },
  {
   "cell_type": "code",
   "execution_count": null,
   "metadata": {},
   "outputs": [],
   "source": [
    "_grav = 9.81\n",
    "_zmet = \"e3w\"\n",
    "_temp = \"votemper\"\n",
    "_salt = \"vosaline\"\n",
    "_zdim = \"Z\"\n",
    "_zcoord = \"depth_l\""
   ]
  },
  {
   "cell_type": "code",
   "execution_count": null,
   "metadata": {},
   "outputs": [],
   "source": [
    "def eosbn2(ds, grid=None, z_reverse=True):\n",
    "    \"\"\" eosbn2 (from CDFTOOLS function eosbn2 in eos.f90)\n",
    "    if z_reverse: assume that depth is negative and z-grid oriented downwards while weights are positive\n",
    "    \"\"\"\n",
    "    temp = _temp\n",
    "    salt = _salt\n",
    "    zdim = _zdim\n",
    "    zmetric = _zmet\n",
    "    grav = _grav\n",
    "    zcoord = _zcoord\n",
    "    \n",
    "    if grid is None: # no xgcm grid passed: use one without metrics (assume mid-depth points = w points)\n",
    "        grid = Grid(ds)\n",
    "    \n",
    "    z_sign = -1. if z_reverse else 1.\n",
    "    \n",
    "    zt = grid.interp(ds[temp], zdim, boundary=\"extend\")\n",
    "    zs = grid.interp(ds[salt], zdim, boundary=\"extend\") - 35.0\n",
    "    zh = z_sign * ds[zcoord] # take minus (i.e. positive depth)\n",
    "    \n",
    "    zalbet = ( ( ( - 0.255019e-07 * zt + 0.298357e-05 ) * zt     #   ! ratio alpha/beta\n",
    "                                       - 0.203814e-03 ) * zt   \n",
    "                                       + 0.170907e-01 ) * zt \\\n",
    "           + 0.665157e-01                                    \\\n",
    "           +     ( - 0.678662e-05 * zs                         \n",
    "                   - 0.846960e-04 * zt + 0.378110e-02 ) * zs \\\n",
    "           +   ( ( - 0.302285e-13 * zh                         \n",
    "                   - 0.251520e-11 * zs                         \n",
    "                   + 0.512857e-12 * zt * zt           ) * zh   \n",
    "                   - 0.164759e-06 * zs                         \n",
    "                +(   0.791325e-08 * zt - 0.933746e-06 ) * zt   \n",
    "                                       + 0.380374e-04 ) * zh\n",
    "\n",
    "    zbeta  = ( ( -0.415613e-09 * zt + 0.555579e-07 ) * zt        #   ! beta\n",
    "                                    - 0.301985e-05 ) * zt     \\\n",
    "           + 0.785567e-03                                     \\\n",
    "           + (     0.515032e-08 * zs                           \n",
    "                 + 0.788212e-08 * zt - 0.356603e-06 ) * zs    \\\n",
    "           +(  (   0.121551e-17 * zh                           \n",
    "                 - 0.602281e-15 * zs                           \n",
    "                 - 0.175379e-14 * zt + 0.176621e-12 ) * zh     \n",
    "                                     + 0.408195e-10   * zs     \n",
    "             + ( - 0.213127e-11 * zt + 0.192867e-09 ) * zt     \n",
    "                                     - 0.121555e-07 ) * zh\n",
    "        \n",
    "    if \"_metrics\" in dir(grid):\n",
    "        try:\n",
    "            eosbn2 = z_sign * grav * zbeta * ( zalbet * grid.derivative(ds[temp], zdim, boundary=\"extend\") \n",
    "                             - grid.derivative(ds[salt], zdim, boundary=\"extend\") )\n",
    "        except:\n",
    "            if zmetric not in ds:\n",
    "                raise ValueError(\"no metric found in dataset\")\n",
    "            eosbn2 = z_sign * grav * zbeta * ( zalbet * grid.diff(ds[temp], zdim, boundary=\"extend\") \n",
    "                             - grid.diff(ds[salt], zdim, boundary=\"extend\") ) / ds[zmetric]\n",
    "    else:\n",
    "        eosbn2 = z_sign * grav * zbeta * ( zalbet * grid.diff(ds[temp], zdim, boundary=\"extend\") \n",
    "                             - grid.diff(ds[salt], zdim, boundary=\"extend\") ) / ds[zmetric]\n",
    "\n",
    "    return eosbn2"
   ]
  },
  {
   "cell_type": "code",
   "execution_count": null,
   "metadata": {},
   "outputs": [],
   "source": [
    "%%time\n",
    "ds_moy[\"Nsqr\"] = eosbn2(ds_moy.where(ds_moy.tmask), grid=None).astype(np.float32, casting=\"same_kind\")\n",
    "ds_moy.Nsqr.isel(x_c=1, y_c=1).plot(y=\"depth_l\")\n"
   ]
  },
  {
   "cell_type": "code",
   "execution_count": null,
   "metadata": {},
   "outputs": [],
   "source": [
    "%%time\n",
    "ds_moy.to_netcdf(mean_file, mode=\"w\")"
   ]
  },
  {
   "cell_type": "code",
   "execution_count": null,
   "metadata": {},
   "outputs": [],
   "source": []
  },
  {
   "cell_type": "code",
   "execution_count": null,
   "metadata": {},
   "outputs": [],
   "source": []
  },
  {
   "cell_type": "code",
   "execution_count": null,
   "metadata": {},
   "outputs": [],
   "source": []
  }
 ],
 "metadata": {
  "kernelspec": {
   "display_name": "Python 3",
   "language": "python",
   "name": "python3"
  },
  "language_info": {
   "codemirror_mode": {
    "name": "ipython",
    "version": 3
   },
   "file_extension": ".py",
   "mimetype": "text/x-python",
   "name": "python",
   "nbconvert_exporter": "python",
   "pygments_lexer": "ipython3",
   "version": "3.9.4"
  }
 },
 "nbformat": 4,
 "nbformat_minor": 4
}
